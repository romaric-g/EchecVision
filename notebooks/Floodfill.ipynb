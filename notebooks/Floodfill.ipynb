{
 "cells": [
  {
   "cell_type": "markdown",
   "id": "9478ecd1",
   "metadata": {},
   "source": [
    "# Floodfill\n",
    "https://learnopencv.com/filling-holes-in-an-image-using-opencv-python-c/"
   ]
  },
  {
   "cell_type": "code",
   "execution_count": 12,
   "id": "a9481ae1",
   "metadata": {},
   "outputs": [
    {
     "name": "stdout",
     "output_type": "stream",
     "text": [
      "(362, 371)\n"
     ]
    }
   ],
   "source": [
    "import cv2;\n",
    "import numpy as np;\n",
    " \n",
    "# Read image\n",
    "im_in = cv2.imread(\"Images/Floodfill/nickel.png\", cv2.IMREAD_GRAYSCALE);\n",
    " \n",
    "print(im_in.shape)\n",
    "    \n",
    "# Threshold.\n",
    "# Set values equal to or above 220 to 0.\n",
    "# Set values below 220 to 255.\n",
    " \n",
    "th, im_th = cv2.threshold(im_in, 220, 255, cv2.THRESH_BINARY_INV);\n",
    " \n",
    "# Copy the thresholded image.\n",
    "im_floodfill = im_th.copy()\n",
    " \n",
    "# Mask used to flood filling.\n",
    "# Notice the size needs to be 2 pixels than the image.\n",
    "h, w = im_th.shape[:2]\n",
    "mask = np.zeros((h+2, w+2), np.uint8)\n",
    " \n",
    "# Floodfill from point (0, 0)\n",
    "cv2.floodFill(im_floodfill, mask, (0,0), 255);\n",
    " \n",
    "# Invert floodfilled image\n",
    "im_floodfill_inv = cv2.bitwise_not(im_floodfill)\n",
    " \n",
    "# Combine the two images to get the foreground.\n",
    "im_out = im_th | im_floodfill_inv\n",
    " \n",
    "# Display images.\n",
    "cv2.imshow(\"Thresholded Image\", im_th)\n",
    "cv2.imshow(\"Floodfilled Image\", im_floodfill)\n",
    "cv2.imshow(\"Inverted Floodfilled Image\", im_floodfill_inv)\n",
    "cv2.imshow(\"Foreground\", im_out)\n",
    "cv2.waitKey(0)\n",
    "cv2.destroyAllWindows()"
   ]
  },
  {
   "cell_type": "code",
   "execution_count": 14,
   "id": "1ac247d7",
   "metadata": {},
   "outputs": [],
   "source": [
    "import cv2;\n",
    "import numpy as np;\n",
    " \n",
    "img = cv2.imread('Images/plateau avec piece 1.png')\n",
    "\n",
    "gray = cv2.cvtColor(img,cv2.COLOR_BGR2GRAY)\n",
    "\n",
    "img_median = cv2.medianBlur(gray, 7)\n",
    "img_median = cv2.dilate(img_median, None, iterations = 3)\n",
    "img_median = cv2.erode(img_median, None, iterations = 3)\n",
    "\n",
    "im_th = cv2.adaptiveThreshold(img_median,255,cv2.ADAPTIVE_THRESH_GAUSSIAN_C,cv2.THRESH_BINARY,11,2)\n",
    "im_th = cv2.bitwise_not(im_th)\n",
    "im_th = cv2.medianBlur(im_th, 5)\n",
    "\n",
    "im_th = cv2.dilate(im_th, None, iterations = 6)\n",
    "im_th = cv2.erode(im_th, None, iterations = 3)\n",
    "\n",
    "canny_img = cv2.Canny(im_th,150,255)\n",
    "contours, hierarchy = cv2.findContours(canny_img, cv2.RETR_EXTERNAL, cv2.CHAIN_APPROX_NONE)\n",
    "\n",
    "max_find = 0\n",
    "\n",
    "for cnt in contours:        \n",
    "    rect = cv2.minAreaRect(cnt)       #I have used min Area rect for better result\n",
    "    width = rect[1][0]\n",
    "    height = rect[1][1]\n",
    "    \n",
    "    area = width * height\n",
    "    \n",
    "    if area > max_find:\n",
    "        max_find = area\n",
    "        max_cnt = cnt\n",
    "\n",
    "# Lines\n",
    "black = img.copy()\n",
    "black[True] = 0\n",
    "\n",
    "contour_lines = cv2.drawContours(black, [max_cnt], -1, (255, 255, 255),1)\n",
    "contour_lines = cv2.cvtColor(contour_lines,cv2.COLOR_BGR2GRAY)\n",
    "\n",
    "im_th = contour_lines\n",
    "\n",
    "# Copy the thresholded image.\n",
    "im_floodfill = contour_lines.copy()\n",
    " \n",
    "# Mask used to flood filling.\n",
    "# Notice the size needs to be 2 pixels than the image.\n",
    "h, w = im_th.shape[:2]\n",
    "mask = np.zeros((h+2, w+2), np.uint8)\n",
    " \n",
    "# Floodfill from point (0, 0)\n",
    "cv2.floodFill(im_floodfill, mask, (0,0), 255);\n",
    " \n",
    "# Invert floodfilled image\n",
    "im_floodfill_inv = cv2.bitwise_not(im_floodfill)\n",
    " \n",
    "# Combine the two images to get the foreground.\n",
    "im_out = im_th | im_floodfill_inv\n",
    " \n",
    "# Display images.\n",
    "cv2.imshow(\"Thresholded Image\", im_th)\n",
    "cv2.imshow(\"Floodfilled Image\", im_floodfill)\n",
    "cv2.imshow(\"Inverted Floodfilled Image\", im_floodfill_inv)\n",
    "cv2.imshow(\"Foreground\", im_out)\n",
    "cv2.waitKey(0)\n",
    "cv2.destroyAllWindows()"
   ]
  },
  {
   "cell_type": "code",
   "execution_count": null,
   "id": "0282eb90",
   "metadata": {},
   "outputs": [],
   "source": [
    "cv2.destroyAllWindows()"
   ]
  },
  {
   "cell_type": "code",
   "execution_count": null,
   "id": "847f0729",
   "metadata": {},
   "outputs": [],
   "source": []
  }
 ],
 "metadata": {
  "kernelspec": {
   "display_name": "Python 3 (ipykernel)",
   "language": "python",
   "name": "python3"
  },
  "language_info": {
   "codemirror_mode": {
    "name": "ipython",
    "version": 3
   },
   "file_extension": ".py",
   "mimetype": "text/x-python",
   "name": "python",
   "nbconvert_exporter": "python",
   "pygments_lexer": "ipython3",
   "version": "3.9.13"
  }
 },
 "nbformat": 4,
 "nbformat_minor": 5
}
