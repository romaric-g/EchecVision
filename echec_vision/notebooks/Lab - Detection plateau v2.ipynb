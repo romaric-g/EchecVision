{
 "cells": [
  {
   "cell_type": "code",
   "execution_count": 2,
   "id": "7d00e988",
   "metadata": {},
   "outputs": [],
   "source": [
    "import numpy as np\n",
    "import cv2 as cv2\n",
    "from matplotlib import pyplot as plt\n",
    "\n",
    "pieces_top_view = [\n",
    "    'Images/StandardView/1.jpg',\n",
    "    'Images/StandardView/2.jpg',\n",
    "    'Images/StandardView/3.jpg',\n",
    "    'Images/StandardView/4.jpg',\n",
    "    'Images/StandardView/5.jpg',\n",
    "    'Images/StandardView/6.jpg',\n",
    "    'Images/StandardView/7.jpg',\n",
    "    'Images/StandardView/8.jpg',\n",
    "    'Images/StandardView/9.jpg',\n",
    "    'Images/StandardView/10.jpg',\n",
    "    'Images/StandardView/11.jpg',\n",
    "    'Images/StandardView/12.jpg',\n",
    "    'Images/StandardView/13.jpg',\n",
    "    'Images/StandardView/14.jpg',\n",
    "]\n",
    "\n",
    "img = pieces_top_view[0]"
   ]
  },
  {
   "cell_type": "code",
   "execution_count": 3,
   "id": "98a5b4d2",
   "metadata": {},
   "outputs": [],
   "source": [
    "from collections import defaultdict\n",
    "def segment_by_angle_kmeans(lines, k=2, **kwargs):\n",
    "    \"\"\"Groups lines based on angle with k-means.\n",
    "\n",
    "    Uses k-means on the coordinates of the angle on the unit circle \n",
    "    to segment `k` angles inside `lines`.\n",
    "    \"\"\"\n",
    "\n",
    "    # Define criteria = (type, max_iter, epsilon)\n",
    "    default_criteria_type = cv2.TERM_CRITERIA_EPS + cv2.TERM_CRITERIA_MAX_ITER\n",
    "    criteria = kwargs.get('criteria', (default_criteria_type, 10, 1.0))\n",
    "    flags = kwargs.get('flags', cv2.KMEANS_RANDOM_CENTERS)\n",
    "    attempts = kwargs.get('attempts', 10)\n",
    "\n",
    "    # returns angles in [0, pi] in radians\n",
    "    angles = np.array([line[0][1] for line in lines])\n",
    "    # multiply the angles by two and find coordinates of that angle\n",
    "    pts = np.array([[np.cos(2*angle), np.sin(2*angle)]\n",
    "                    for angle in angles], dtype=np.float32)\n",
    "\n",
    "    # run kmeans on the coords\n",
    "    labels, centers = cv2.kmeans(pts, k, None, criteria, attempts, flags)[1:]\n",
    "    labels = labels.reshape(-1)  # transpose to row vec\n",
    "\n",
    "    # segment lines based on their kmeans label\n",
    "    segmented = defaultdict(list)\n",
    "    for i, line in enumerate(lines):\n",
    "        segmented[labels[i]].append(line)\n",
    "    segmented = list(segmented.values())\n",
    "    return segmented"
   ]
  },
  {
   "cell_type": "code",
   "execution_count": 4,
   "id": "9ae88207",
   "metadata": {},
   "outputs": [],
   "source": [
    "def intersection(line1, line2):\n",
    "    \"\"\"Finds the intersection of two lines given in Hesse normal form.\n",
    "\n",
    "    Returns closest integer pixel locations.\n",
    "    See https://stackoverflow.com/a/383527/5087436\n",
    "    \"\"\"\n",
    "    rho1, theta1 = line1[0]\n",
    "    rho2, theta2 = line2[0]\n",
    "    A = np.array([\n",
    "        [np.cos(theta1), np.sin(theta1)],\n",
    "        [np.cos(theta2), np.sin(theta2)]\n",
    "    ])\n",
    "    b = np.array([[rho1], [rho2]])\n",
    "    x0, y0 = np.linalg.solve(A, b)\n",
    "    x0, y0 = int(np.round(x0)), int(np.round(y0))\n",
    "    return [[x0, y0]]\n",
    "\n",
    "\n",
    "def segmented_intersections(lines):\n",
    "    \"\"\"Finds the intersections between groups of lines.\"\"\"\n",
    "\n",
    "    intersections = []\n",
    "    for i, group in enumerate(lines[:-1]):\n",
    "        for next_group in lines[i+1:]:\n",
    "            for line1 in group:\n",
    "                for line2 in next_group:\n",
    "                    intersections.append(intersection(line1, line2)) \n",
    "\n",
    "    return intersections"
   ]
  },
  {
   "cell_type": "code",
   "execution_count": 5,
   "id": "0dd301b3",
   "metadata": {},
   "outputs": [],
   "source": [
    "def show_line(img, line, color):\n",
    "    arr = np.array(line[0], dtype=np.float64)\n",
    "    r, theta = arr\n",
    "    a = np.cos(theta)\n",
    "    b = np.sin(theta)\n",
    "\n",
    "    x0 = a*r\n",
    "    y0 = b*r\n",
    "\n",
    "    x1 = int(x0 + 1000*(-b))\n",
    "    y1 = int(y0 + 1000*(a))\n",
    "\n",
    "    x2 = int(x0 - 1000*(-b))\n",
    "    y2 = int(y0 - 1000*(a))\n",
    "    cv2.line(img, (x1, y1), (x2, y2), color, 2)"
   ]
  },
  {
   "cell_type": "code",
   "execution_count": 30,
   "id": "fcaf3692",
   "metadata": {},
   "outputs": [
    {
     "name": "stdout",
     "output_type": "stream",
     "text": [
      "Section 0\n",
      "Section 1\n"
     ]
    },
    {
     "data": {
      "text/plain": [
       "<Figure size 2400x2400 with 0 Axes>"
      ]
     },
     "metadata": {},
     "output_type": "display_data"
    }
   ],
   "source": [
    "plt.figure(figsize=(24,24))\n",
    "\n",
    "img = cv2.imread(pieces_top_view[3])\n",
    "\n",
    "width = 700\n",
    "height = 700\n",
    "dim = (width, height)\n",
    "\n",
    "# resize image\n",
    "img = cv2.resize(img, dim, interpolation = cv2.INTER_AREA)\n",
    "\n",
    "gray = cv2.cvtColor(img, cv2.COLOR_BGR2GRAY)\n",
    "\n",
    "edges = cv2.Canny(gray, 150, 240, apertureSize=3)\n",
    "\n",
    "lines = cv2.HoughLines(edges, 1, np.pi/180, 140)\n",
    "\n",
    "segmented = segment_by_angle_kmeans(lines)\n",
    "\n",
    "i = 0\n",
    "\n",
    "for lines in segmented:\n",
    "    print(\"Section \" + str(i))\n",
    "    \n",
    "    min_val = 9999999999\n",
    "    max_val = 0\n",
    "    \n",
    "    for line in lines:\n",
    "        arr = np.array(line[0], dtype=np.float64)\n",
    "        r, theta = arr\n",
    "        \n",
    "        a = np.cos(theta)\n",
    "        b = np.sin(theta)\n",
    "\n",
    "        x0 = a*r\n",
    "        y0 = b*r\n",
    "        \n",
    "        if i == 0:\n",
    "            v = x0\n",
    "        else:\n",
    "            v = y0\n",
    "        if v > max_val:\n",
    "            max_line = line\n",
    "            max_val = r\n",
    "            \n",
    "        if v < min_val:\n",
    "            min_line = line\n",
    "            min_val = r\n",
    "\n",
    "    show_line(img, min_line, (0, 255, 0))\n",
    "    show_line(img, max_line, (255, 0, 0))\n",
    "    i = i + 1\n",
    "\n",
    "cv2.imshow('linesDetected',img)\n",
    "if cv2.waitKey(0) & 0xff == 27:\n",
    "    cv2.destroyAllWindows()"
   ]
  },
  {
   "cell_type": "code",
   "execution_count": 84,
   "id": "7a438232",
   "metadata": {},
   "outputs": [
    {
     "name": "stdout",
     "output_type": "stream",
     "text": [
      "Section 0\n",
      "460.0 1.5882495641708374 -0.017452351301679672 0.9998476961187852 -8.02808159877265 459.9299402146412\n",
      "289.0 1.5707963705062866 -4.371139000186241e-08 0.999999999999999 -1.2632591710538237e-05 288.9999999999997\n",
      "330.0 1.5707963705062866 -4.371139000186241e-08 0.999999999999999 -1.4424758700614596e-05 329.99999999999966\n",
      "512.0 1.5882495641708374 -0.017452351301679672 0.9998476961187852 -8.935603866459992 511.92202041281803\n",
      "412.0 1.5882495641708374 -0.017452351301679672 0.9998476961187852 -7.190368736292025 411.9372508009395\n",
      "250.0 1.5707963705062866 -4.371139000186241e-08 0.999999999999999 -1.0927847500465603e-05 249.99999999999974\n",
      "372.0 1.5707963705062866 -4.371139000186241e-08 0.999999999999999 -1.6260637080692817e-05 371.9999999999996\n",
      "504.0 1.6057028770446777 -0.034899461933588664 0.9993908282332523 -17.589328814528688 503.69297742955916\n",
      "535.0 1.6057028770446777 -0.034899461933588664 0.9993908282332523 -18.671212134469936 534.67409310479\n",
      "180.0 1.5533430576324463 0.017452383083348 0.9998476955640354 3.14142895500264 179.97258520152639\n",
      "365.0 1.5882495641708374 -0.017452351301679672 0.9998476961187852 -6.37010822511308 364.9444090833566\n",
      "Section 1\n",
      "424.0 0.01745329238474369 0.9998476951587508 0.017452406302104498 423.9354227473103 7.399820272092307\n",
      "178.0 0.1745329201221466 0.9848077538938695 0.17364817266677937 175.29578019310878 30.90937473468673\n",
      "-524.0 3.0892326831817627 -0.9986295298952702 0.05233604896389903 523.2818736651216 -27.424089657083094\n",
      "-575.0 3.054326057434082 -0.9961946864515647 0.08715587579543124 572.8119447096498 -50.114628582372966\n",
      "-474.0 3.1241393089294434 -0.9998476942464143 0.017452458569748835 473.92780707280036 -8.272465362060949\n",
      "274.0 0.10471975803375244 0.9945218950636677 0.10452846616578243 272.49899924744494 28.640799729424387\n",
      "375.0 0.05235987901687622 0.9986295346783179 0.05233595769799333 374.48607550436924 19.6259841367475\n",
      "-606.0 3.0368728637695312 -0.9945218917410721 0.10452849777816209 602.6802663950897 -63.34426965356622\n",
      "226.0 0.13962633907794952 0.9902680688920995 0.13917309988899462 223.8005835696145 31.453120574912784\n",
      "156.0 0.20943951606750488 0.9781475995220578 0.20791169651858482 152.591025525441 32.43422465689923\n",
      "280.0 0.12217304855585098 0.9925461515296595 0.12186934431456582 277.9129224283047 34.12341640807843\n",
      "233.0 0.15707963705062866 0.987688339911341 0.1564344693575539 230.13138319934245 36.44923136031006\n",
      "180.0 0.1745329201221466 0.9848077538938695 0.17364817266677937 177.2653957008965 31.256671080020286\n",
      "327.0 0.0872664600610733 0.9961946983130029 0.0871557402186753 325.75566634835195 28.499927051506823\n",
      "322.0 0.06981316953897476 0.9975640502975485 0.06975647320464423 321.2156241958106 22.46158437189544\n",
      "-567.0 3.0368728637695312 -0.9945218917410721 0.10452849777816209 563.8939126171879 -59.267658240217905\n",
      "-466.0 3.1066861152648926 -0.9993908286494242 0.03489945001597251 465.7161261506317 -16.263143707443188\n"
     ]
    },
    {
     "data": {
      "text/plain": [
       "<Figure size 2400x2400 with 0 Axes>"
      ]
     },
     "metadata": {},
     "output_type": "display_data"
    }
   ],
   "source": [
    "plt.figure(figsize=(24,24))\n",
    "\n",
    "img = cv2.imread(pieces_top_view[7])\n",
    "\n",
    "width = 700\n",
    "height = 700\n",
    "dim = (width, height)\n",
    "\n",
    "font = cv2.FONT_HERSHEY_SIMPLEX\n",
    "fontScale = 1\n",
    "thickness = 1\n",
    "\n",
    "# resize image\n",
    "img = cv2.resize(img, dim, interpolation = cv2.INTER_AREA)\n",
    "\n",
    "gray = cv2.cvtColor(img, cv2.COLOR_BGR2GRAY)\n",
    "\n",
    "edges = cv2.Canny(gray, 150, 240, apertureSize=3)\n",
    "\n",
    "lines = cv2.HoughLines(edges, 1, np.pi/180, 120)\n",
    "\n",
    "segmented = segment_by_angle_kmeans(lines)\n",
    "\n",
    "i = 0\n",
    "\n",
    "for lines in segmented:\n",
    "    print(\"Section \" + str(i))\n",
    "    color = (0, 0, 0)\n",
    "\n",
    "    y = 0\n",
    "    for r_theta in lines:\n",
    "        arr = np.array(r_theta[0], dtype=np.float64)\n",
    "        r, theta = arr\n",
    "        a = np.cos(theta)\n",
    "        b = np.sin(theta)\n",
    "\n",
    "        x0 = a*r\n",
    "        y0 = b*r\n",
    "\n",
    "        x1 = int(x0 + 1000*(-b))\n",
    "        y1 = int(y0 + 1000*(a))\n",
    "\n",
    "        x2 = int(x0 - 1000*(-b))\n",
    "        y2 = int(y0 - 1000*(a))\n",
    "               \n",
    "        cv2.line(img, (x1, y1), (x2, y2), color, 2)\n",
    "        \n",
    "       \n",
    "        \n",
    "        c = list(color)   \n",
    "        c[i] = c[i] + 30\n",
    "        color = tuple(c)\n",
    "        \n",
    "        print(r, theta, a, b, x0, y0)\n",
    "        \n",
    "        y = y + 1\n",
    "\n",
    "    \n",
    "    i = i + 1\n",
    "\n",
    "cv2.imshow('linesDetected',img)\n",
    "if cv2.waitKey(0) & 0xff == 27:\n",
    "    cv2.destroyAllWindows()"
   ]
  },
  {
   "cell_type": "code",
   "execution_count": 44,
   "id": "cb028108",
   "metadata": {},
   "outputs": [
    {
     "name": "stdout",
     "output_type": "stream",
     "text": [
      "Max\n",
      "[0 0]\n",
      "MIN\n",
      "[ 5 15]\n",
      "points\n",
      "[594 565]\n",
      "[594 565]\n",
      "[ 78 556]\n",
      "[108 133]\n"
     ]
    },
    {
     "data": {
      "text/plain": [
       "<Figure size 2400x2400 with 0 Axes>"
      ]
     },
     "metadata": {},
     "output_type": "display_data"
    }
   ],
   "source": [
    "plt.figure(figsize=(24,24))\n",
    "\n",
    "img = cv2.imread(pieces_top_view[2])\n",
    "\n",
    "width = 700\n",
    "height = 700\n",
    "dim = (width, height)\n",
    "\n",
    "# resize image\n",
    "img = cv2.resize(img, dim, interpolation = cv2.INTER_AREA)\n",
    "\n",
    "gray = cv2.cvtColor(img, cv2.COLOR_BGR2GRAY)\n",
    "edges = cv2.Canny(gray, 150, 240, apertureSize=3)\n",
    "lines = cv2.HoughLines(edges, 1, np.pi/180, 140)\n",
    "\n",
    "segmented = segment_by_angle_kmeans(lines)\n",
    "\n",
    "intersections = segmented_intersections(segmented)\n",
    "\n",
    "A = np.array(intersections)\n",
    "A = A.reshape((A.shape[0], A.shape[2]))\n",
    "\n",
    "max_indexs = np.argmax(A, axis=0)\n",
    "min_indexs = np.argmin(A, axis=0)\n",
    "\n",
    "print('Max')\n",
    "print(max_indexs)\n",
    "print('MIN')\n",
    "print(min_indexs)\n",
    "\n",
    "print(\"points\")\n",
    "print(A[max_indexs[0]])\n",
    "print(A[max_indexs[1]])\n",
    "print(A[min_indexs[0]])\n",
    "print(A[min_indexs[1]])\n",
    "\n",
    "\n",
    "img = cv2.circle(img, (735, 592), radius=3, color=(0, 0, 255), thickness=-1)\n",
    "img = cv2.circle(img, (504, 21), radius=3, color=(0, 255, 0), thickness=-1)\n",
    "\n",
    "\n",
    "cv2.imshow('linesDetected',img)\n",
    "if cv2.waitKey(0) & 0xff == 27:\n",
    "    cv2.destroyAllWindows()"
   ]
  },
  {
   "cell_type": "code",
   "execution_count": 513,
   "id": "48efee64",
   "metadata": {},
   "outputs": [],
   "source": [
    "# Permet de recuperer la ligne de reference pour comparer plusieurs ligne entre elle\n",
    "def get_ref_line(axis, center):\n",
    "    if axis == 1:\n",
    "        return [[center[1], 0]]\n",
    "    return [[center[0], np.pi/2]]"
   ]
  },
  {
   "cell_type": "code",
   "execution_count": 514,
   "id": "0729a23e",
   "metadata": {},
   "outputs": [],
   "source": [
    "# Recuperer la ligne la plus à gauche/basse et la plus à droite/haute\n",
    "def get_min_max_lines(lines, center, axis=0):\n",
    "    ref_line = get_ref_line(axis, center)\n",
    "    \n",
    "    max_point = -99999999\n",
    "    min_point = 99999999 \n",
    "    \n",
    "    for line in lines:\n",
    "        coord = intersection(ref_line, line)\n",
    "        point = coord[0][axis]\n",
    "\n",
    "        if point > max_point:\n",
    "            max_point = point\n",
    "            max_line = line\n",
    "        if point < min_point:\n",
    "            min_point = point\n",
    "            min_line = line\n",
    "    \n",
    "    return [min_line, max_line]"
   ]
  },
  {
   "cell_type": "code",
   "execution_count": 8,
   "id": "c5a5aab6",
   "metadata": {},
   "outputs": [],
   "source": [
    "def get_lines_cross_points(lines, center, axis=0):\n",
    "    ref_line = get_ref_line(axis, center)\n",
    "    \n",
    "    points = []\n",
    "    \n",
    "    for line in lines:\n",
    "        coord = intersection(ref_line, line)\n",
    "        point = coord[0][axis]\n",
    "        points.append(point)\n",
    "        \n",
    "    return points"
   ]
  },
  {
   "cell_type": "code",
   "execution_count": 141,
   "id": "0e2cc742",
   "metadata": {},
   "outputs": [],
   "source": [
    "# Ne fonction pas\n",
    "def keep_similar_lines(lines, tolerence):\n",
    "    a = np.array(lines).reshape(len(lines), 2)\n",
    "    b = a[:, 1]\n",
    "    m = np.median(b, axis=0)\n",
    "   \n",
    "    # /!\\ 0 = 180° \n",
    "    # mask = np.absolute((b - m)) < tolerence\n",
    "    \n",
    "    print(\"M\", m)\n",
    "    \n",
    "    c = b - m\n",
    "    c = (c + np.pi) % np.pi*2\n",
    "    \n",
    "    print(\"C\", c)\n",
    "\n",
    "    mask = c < tolerence\n",
    "    \n",
    "    filtered = []\n",
    "\n",
    "    for i, line in enumerate(lines):\n",
    "        if mask[i]:\n",
    "            filtered.append(line)\n",
    "\n",
    "    return filtered"
   ]
  },
  {
   "cell_type": "markdown",
   "id": "07996181",
   "metadata": {},
   "source": [
    "### Test : Detecteur de Harris"
   ]
  },
  {
   "cell_type": "code",
   "execution_count": 38,
   "id": "68ad4243",
   "metadata": {},
   "outputs": [
    {
     "name": "stdout",
     "output_type": "stream",
     "text": [
      "(4032, 3024, 3)\n"
     ]
    },
    {
     "data": {
      "text/plain": [
       "<Figure size 2400x2400 with 0 Axes>"
      ]
     },
     "metadata": {},
     "output_type": "display_data"
    }
   ],
   "source": [
    "plt.figure(figsize=(24,24))\n",
    "\n",
    "img = cv2.imread(pieces_top_view[3])\n",
    "print(img.shape)\n",
    "\n",
    "width = 700\n",
    "height = 700\n",
    "dim = (width, height)\n",
    "# resize image\n",
    "img = cv2.resize(img, dim, interpolation = cv2.INTER_AREA)\n",
    "\n",
    "gray = cv2.cvtColor(img,cv2.COLOR_BGR2GRAY)\n",
    "img_median = cv2.medianBlur(gray, 7)\n",
    "\n",
    "dst = cv2.cornerHarris(img_median,2,3,0.04)\n",
    "#result is dilated for marking the corners, not important\n",
    "dst = cv2.dilate(dst,None)\n",
    "# Threshold for an optimal value, it may vary depending on the image.\n",
    "img[dst>0.01*dst.max()]=[0,0,255]\n",
    "\n",
    "cv2.imshow('linesDetected',img)\n",
    "if cv2.waitKey(0) & 0xff == 27:\n",
    "    cv2.destroyAllWindows()"
   ]
  },
  {
   "cell_type": "markdown",
   "id": "e614980f",
   "metadata": {},
   "source": [
    "# Debut du traitement"
   ]
  },
  {
   "cell_type": "code",
   "execution_count": 521,
   "id": "f9546fb9",
   "metadata": {},
   "outputs": [
    {
     "name": "stdout",
     "output_type": "stream",
     "text": [
      "(700, 700, 3)\n"
     ]
    }
   ],
   "source": [
    "image_id = 3\n",
    "image_ref = cv2.imread(pieces_top_view[image_id])\n",
    "\n",
    "size = 700\n",
    "center = (size/2, size/2)\n",
    "\n",
    "width = size\n",
    "height = size\n",
    "dim = (width, height)\n",
    "\n",
    "# resize image\n",
    "image_ref = cv2.resize(image_ref, dim, interpolation = cv2.INTER_AREA)\n",
    "print(image_ref.shape)"
   ]
  },
  {
   "cell_type": "markdown",
   "id": "468d1d5f",
   "metadata": {},
   "source": [
    "## Detecteur de contour"
   ]
  },
  {
   "cell_type": "code",
   "execution_count": 522,
   "id": "9e3d952e",
   "metadata": {},
   "outputs": [],
   "source": [
    "img = image_ref.copy()\n",
    "gray = cv2.cvtColor(img,cv2.COLOR_BGR2GRAY)\n",
    "\n",
    "img_median = cv2.medianBlur(gray, 7)\n",
    "img_median = cv2.dilate(img_median, None, iterations = 3)\n",
    "img_median = cv2.erode(img_median, None, iterations = 3)\n",
    "\n",
    "ret,threshold_img = cv2.threshold(img_median,128,255,cv2.THRESH_BINARY)\n",
    "threshold_img = cv2.bitwise_not(threshold_img)\n",
    "threshold_img = cv2.dilate(threshold_img, None, iterations = 2)\n",
    "threshold_img = cv2.medianBlur(threshold_img, 9)\n",
    "\n",
    "contours, hierarchy = cv2.findContours(threshold_img, cv2.RETR_EXTERNAL, cv2.CHAIN_APPROX_NONE)\n",
    "\n",
    "max_find = 0\n",
    "\n",
    "for cnt in contours:        \n",
    "    rect = cv2.minAreaRect(cnt)       #I have used min Area rect for better result\n",
    "    width = rect[1][0]\n",
    "    height = rect[1][1]\n",
    "    \n",
    "    area = width * height\n",
    "    \n",
    "    if area > max_find:\n",
    "        max_find = area\n",
    "        max_cnt = cnt\n",
    "        \n",
    "cropped_img_ref = img[y:y+h, x:x+w]\n",
    "cropped_center = (w/2,h/2)\n",
    "\n",
    "\n",
    "#mask = np.zeros_like(img)\n",
    "#cv2.drawContours(mask, [max_cnt], -1, (255, 255, 255), -1)\n",
    "#cv2.rectangle(mask, (x, y), (x+w, y+h), (255, 255, 255), -1)\n",
    "#mask = cv2.dilate(mask, None, iterations = 30)"
   ]
  },
  {
   "cell_type": "markdown",
   "id": "94379b89",
   "metadata": {},
   "source": [
    "## Detection des lignes de l'image avec mask"
   ]
  },
  {
   "cell_type": "code",
   "execution_count": 529,
   "id": "f8ea60a2",
   "metadata": {},
   "outputs": [
    {
     "name": "stdout",
     "output_type": "stream",
     "text": [
      "[[[173  64]]\n",
      "\n",
      " [[231  62]]\n",
      "\n",
      " [[166 434]]\n",
      "\n",
      " [[244 430]]]\n"
     ]
    }
   ],
   "source": [
    "cropped_img = cropped_img_ref.copy()\n",
    "\n",
    "gray = cv2.cvtColor(cropped_img, cv2.COLOR_BGR2GRAY)\n",
    "edges = cv2.Canny(gray, 150, 240, apertureSize=3)\n",
    "lines = cv2.HoughLines(edges, 1, np.pi/180, 130)\n",
    "\n",
    "# Recuperation des lignes gauche, droite, haute, basse du plateau\n",
    "\n",
    "segmented = segment_by_angle_kmeans(lines)\n",
    "\n",
    "v_lines = segmented[0]\n",
    "h_lines = segmented[1]\n",
    "\n",
    "# TODO : identifier axis of lines\n",
    "\n",
    "try:\n",
    "    min_max_v_line = get_min_max_lines(v_lines, cropped_center, axis=0) # on inverse 0 et 1 si erreur (2 lignes paralleles)\n",
    "    min_max_h_line = get_min_max_lines(h_lines, cropped_center, axis=1)\n",
    "except:\n",
    "    min_max_v_line = get_min_max_lines(v_lines, cropped_center, axis=1)\n",
    "    min_max_h_line = get_min_max_lines(h_lines, cropped_center, axis=0)\n",
    "    \n",
    "    \n",
    "intersections = np.array(segmented_intersections([min_max_v_line, min_max_h_line]))\n",
    "\n",
    "\n",
    "\n",
    "print(intersections)"
   ]
  },
  {
   "cell_type": "markdown",
   "id": "89fe8763",
   "metadata": {},
   "source": [
    "## Show all line detected"
   ]
  },
  {
   "cell_type": "code",
   "execution_count": 530,
   "id": "d4f1c7a4",
   "metadata": {},
   "outputs": [],
   "source": [
    "cropped_img_copy = cropped_img.copy()\n",
    "\n",
    "for line in v_lines:\n",
    "    show_line(cropped_img_copy, line, (255, 0, 0))\n",
    "for line in h_lines:\n",
    "    show_line(cropped_img_copy, line, (0, 0, 255))\n",
    "\n",
    "cv2.imshow('linesDetected',cropped_img_copy)\n",
    "if cv2.waitKey(0) & 0xff == 27:\n",
    "    cv2.destroyAllWindows()"
   ]
  },
  {
   "cell_type": "code",
   "execution_count": 532,
   "id": "906c80d6",
   "metadata": {},
   "outputs": [],
   "source": [
    "line = [[cropped_center[0], np.pi * 2]]\n",
    "\n",
    "cropped_img_copy = cropped_img.copy()\n",
    "\n",
    "show_line(cropped_img_copy, line, (255, 0, 255))\n",
    "\n",
    "cv2.imshow('linesDetected',cropped_img_copy)\n",
    "if cv2.waitKey(0) & 0xff == 27:\n",
    "    cv2.destroyAllWindows()"
   ]
  },
  {
   "cell_type": "markdown",
   "id": "f1dd522a",
   "metadata": {},
   "source": [
    "## Show max line detected"
   ]
  },
  {
   "cell_type": "markdown",
   "id": "f90e23be",
   "metadata": {},
   "source": [
    "## Show intersections"
   ]
  },
  {
   "cell_type": "code",
   "execution_count": 296,
   "id": "95e8496b",
   "metadata": {},
   "outputs": [],
   "source": [
    "img_copy = img.copy()\n",
    "\n",
    "img_copy = cv2.circle(img_copy, tuple(*intersections[0]), radius=5, color=(0, 255, 0), thickness=-1)\n",
    "img_copy = cv2.circle(img_copy, tuple(*intersections[1]), radius=5, color=(0, 0, 255), thickness=-1)\n",
    "img_copy = cv2.circle(img_copy, tuple(*intersections[2]), radius=5, color=(0, 0, 0), thickness=-1)\n",
    "img_copy = cv2.circle(img_copy, tuple(*intersections[3]), radius=5, color=(0, 255, 255), thickness=-1)\n",
    "\n",
    "cv2.imshow('linesDetected',img_copy)\n",
    "if cv2.waitKey(0) & 0xff == 27:\n",
    "    cv2.destroyAllWindows()"
   ]
  },
  {
   "cell_type": "markdown",
   "id": "7f5edd4f",
   "metadata": {},
   "source": [
    "# Find and create Homography img"
   ]
  },
  {
   "cell_type": "code",
   "execution_count": 385,
   "id": "d50d5e51",
   "metadata": {},
   "outputs": [
    {
     "name": "stdout",
     "output_type": "stream",
     "text": [
      "[[[108 133]]\n",
      "\n",
      " [[619 142]]\n",
      "\n",
      " [[ 78 556]]\n",
      "\n",
      " [[619 566]]]\n",
      "[[  0 700]\n",
      " [700 700]\n",
      " [  0   0]\n",
      " [700   0]]\n"
     ]
    }
   ],
   "source": [
    "img = image_ref.copy()\n",
    "\n",
    "src = np.array(intersections)\n",
    "dst = np.array([[0,size],[size,size],[0,0],[size,0]])\n",
    "\n",
    "print(src)\n",
    "print(dst)\n",
    "\n",
    "h, status = cv2.findHomography(src, dst);\n",
    "im_dst = cv2.warpPerspective(img, h, (size,size))"
   ]
  },
  {
   "cell_type": "code",
   "execution_count": 386,
   "id": "9e4a19be",
   "metadata": {},
   "outputs": [],
   "source": [
    "cv2.imshow('Homographie',im_dst)\n",
    "if cv2.waitKey(0) & 0xff == 27:\n",
    "    cv2.destroyAllWindows()"
   ]
  },
  {
   "cell_type": "code",
   "execution_count": 298,
   "id": "afcceefa",
   "metadata": {},
   "outputs": [],
   "source": [
    "gray = cv2.cvtColor(im_dst, cv2.COLOR_BGR2GRAY)\n",
    "edges = cv2.Canny(gray, 150, 240, apertureSize=3)\n",
    "lines = cv2.HoughLines(edges, 1, np.pi/180, 120)\n",
    "\n",
    "# Recuperation des lignes gauche, droite, haute, basse du plateau\n",
    "\n",
    "segmented = segment_by_angle_kmeans(lines)\n",
    "\n",
    "v_lines = segmented[0]\n",
    "h_lines = segmented[1]"
   ]
  },
  {
   "cell_type": "code",
   "execution_count": 299,
   "id": "f0f53e99",
   "metadata": {},
   "outputs": [],
   "source": [
    "for i in v_lines:\n",
    "    show_line(im_dst, i, (0, 255, 0))\n",
    "\n",
    "for i in h_lines:\n",
    "    show_line(im_dst, i, (0, 0, 255))   "
   ]
  },
  {
   "cell_type": "code",
   "execution_count": 300,
   "id": "e4f286c5",
   "metadata": {},
   "outputs": [],
   "source": [
    "def mean_similar_points(points, tolerence):\n",
    "    next_group_id = 0\n",
    "    keys_groups = dict()\n",
    "\n",
    "    for i, value in enumerate(points): \n",
    "        mask = np.absolute(points-value) < tolerence\n",
    "        similars = points[mask]\n",
    "        if value in keys_groups:\n",
    "            for s in similars:\n",
    "                keys_groups[s] = keys_groups[value]\n",
    "        else:\n",
    "            for s in similars:\n",
    "                keys_groups[s] = next_group_id\n",
    "            next_group_id = next_group_id + 1\n",
    "\n",
    "    inv_map = {}\n",
    "    for k, v in keys_groups.items():\n",
    "        inv_map[v] = inv_map.get(v, []) + [k]\n",
    "\n",
    "    mean_points = []\n",
    "    for i in inv_map:\n",
    "        i_list = inv_map[i]\n",
    "        i_mean = int(sum(i_list) / len(i_list))\n",
    "        mean_points.append(i_mean)\n",
    "\n",
    "    return mean_points"
   ]
  },
  {
   "cell_type": "code",
   "execution_count": 302,
   "id": "463ee61b",
   "metadata": {
    "scrolled": true
   },
   "outputs": [
    {
     "name": "stdout",
     "output_type": "stream",
     "text": [
      "35.0\n"
     ]
    }
   ],
   "source": [
    "v_coords = np.array(get_lines_cross_points(v_lines, center, axis=1))\n",
    "h_coords = np.array(get_lines_cross_points(h_lines, center, axis=0))\n",
    "\n",
    "tolerence = img.shape[0] / 20\n",
    "\n",
    "print(tolerence)\n",
    "\n",
    "v_mean_points = mean_similar_points(v_coords, tolerence)\n",
    "h_mean_points = mean_similar_points(h_coords, tolerence)\n",
    "\n",
    "for i in v_coords:\n",
    "    im_dst = cv2.circle(im_dst, (10, i), radius=5, color=(0, 0, 255), thickness=-1)\n",
    "for i in v_mean_points:\n",
    "    im_dst = cv2.circle(im_dst, (20, i), radius=5, color=(0, 255, 255), thickness=-1)\n",
    "    \n",
    "for i in h_coords:\n",
    "    im_dst = cv2.circle(im_dst, (i, 10), radius=5, color=(255, 0, 0), thickness=-1)\n",
    "for i in h_mean_points:\n",
    "    im_dst = cv2.circle(im_dst, (i, 20), radius=5, color=(255, 255, 0), thickness=-1)    "
   ]
  },
  {
   "cell_type": "code",
   "execution_count": 303,
   "id": "941ea9f1",
   "metadata": {},
   "outputs": [],
   "source": [
    "cv2.imshow('im_dst',im_dst)\n",
    "if cv2.waitKey(0) & 0xff == 27:\n",
    "    cv2.destroyAllWindows()"
   ]
  },
  {
   "cell_type": "code",
   "execution_count": null,
   "id": "86693fcd",
   "metadata": {},
   "outputs": [],
   "source": []
  }
 ],
 "metadata": {
  "kernelspec": {
   "display_name": "Python 3 (ipykernel)",
   "language": "python",
   "name": "python3"
  },
  "language_info": {
   "codemirror_mode": {
    "name": "ipython",
    "version": 3
   },
   "file_extension": ".py",
   "mimetype": "text/x-python",
   "name": "python",
   "nbconvert_exporter": "python",
   "pygments_lexer": "ipython3",
   "version": "3.9.13"
  }
 },
 "nbformat": 4,
 "nbformat_minor": 5
}
