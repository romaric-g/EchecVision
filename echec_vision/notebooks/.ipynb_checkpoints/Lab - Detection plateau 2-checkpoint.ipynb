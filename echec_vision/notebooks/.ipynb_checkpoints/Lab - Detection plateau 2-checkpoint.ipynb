{
 "cells": [
  {
   "cell_type": "code",
   "execution_count": 1,
   "id": "7d00e988",
   "metadata": {},
   "outputs": [],
   "source": [
    "import numpy as np\n",
    "import cv2 as cv2\n",
    "from matplotlib import pyplot as plt\n",
    "\n",
    "pieces_top_view = [\n",
    "    'Images/StandardView/1.jpg',\n",
    "    'Images/StandardView/2.jpg',\n",
    "    'Images/StandardView/3.jpg',\n",
    "    'Images/StandardView/4.jpg',\n",
    "    'Images/StandardView/5.jpg',\n",
    "    'Images/StandardView/6.jpg',\n",
    "    'Images/StandardView/7.jpg',\n",
    "    'Images/StandardView/8.jpg',\n",
    "    'Images/StandardView/9.jpg',\n",
    "    'Images/StandardView/10.jpg',\n",
    "    'Images/StandardView/11.jpg',\n",
    "    'Images/StandardView/12.jpg',\n",
    "    'Images/StandardView/13.jpg',\n",
    "    'Images/StandardView/14.jpg',\n",
    "]\n",
    "\n",
    "img = pieces_top_view[0]"
   ]
  },
  {
   "cell_type": "code",
   "execution_count": 2,
   "id": "98a5b4d2",
   "metadata": {},
   "outputs": [],
   "source": [
    "from collections import defaultdict\n",
    "def segment_by_angle_kmeans(lines, k=2, **kwargs):\n",
    "    \"\"\"Groups lines based on angle with k-means.\n",
    "\n",
    "    Uses k-means on the coordinates of the angle on the unit circle \n",
    "    to segment `k` angles inside `lines`.\n",
    "    \"\"\"\n",
    "\n",
    "    # Define criteria = (type, max_iter, epsilon)\n",
    "    default_criteria_type = cv2.TERM_CRITERIA_EPS + cv2.TERM_CRITERIA_MAX_ITER\n",
    "    criteria = kwargs.get('criteria', (default_criteria_type, 10, 1.0))\n",
    "    flags = kwargs.get('flags', cv2.KMEANS_RANDOM_CENTERS)\n",
    "    attempts = kwargs.get('attempts', 10)\n",
    "\n",
    "    # returns angles in [0, pi] in radians\n",
    "    angles = np.array([line[0][1] for line in lines])\n",
    "    # multiply the angles by two and find coordinates of that angle\n",
    "    pts = np.array([[np.cos(2*angle), np.sin(2*angle)]\n",
    "                    for angle in angles], dtype=np.float32)\n",
    "\n",
    "    # run kmeans on the coords\n",
    "    labels, centers = cv2.kmeans(pts, k, None, criteria, attempts, flags)[1:]\n",
    "    labels = labels.reshape(-1)  # transpose to row vec\n",
    "\n",
    "    # segment lines based on their kmeans label\n",
    "    segmented = defaultdict(list)\n",
    "    for i, line in enumerate(lines):\n",
    "        segmented[labels[i]].append(line)\n",
    "    segmented = list(segmented.values())\n",
    "    return segmented"
   ]
  },
  {
   "cell_type": "code",
   "execution_count": 3,
   "id": "9ae88207",
   "metadata": {},
   "outputs": [],
   "source": [
    "def intersection(line1, line2):\n",
    "    \"\"\"Finds the intersection of two lines given in Hesse normal form.\n",
    "\n",
    "    Returns closest integer pixel locations.\n",
    "    See https://stackoverflow.com/a/383527/5087436\n",
    "    \"\"\"\n",
    "    rho1, theta1 = line1[0]\n",
    "    rho2, theta2 = line2[0]\n",
    "    A = np.array([\n",
    "        [np.cos(theta1), np.sin(theta1)],\n",
    "        [np.cos(theta2), np.sin(theta2)]\n",
    "    ])\n",
    "    b = np.array([[rho1], [rho2]])\n",
    "    x0, y0 = np.linalg.solve(A, b)\n",
    "    x0, y0 = int(np.round(x0)), int(np.round(y0))\n",
    "    return [[x0, y0]]\n",
    "\n",
    "\n",
    "def segmented_intersections(lines):\n",
    "    \"\"\"Finds the intersections between groups of lines.\"\"\"\n",
    "\n",
    "    intersections = []\n",
    "    for i, group in enumerate(lines[:-1]):\n",
    "        for next_group in lines[i+1:]:\n",
    "            for line1 in group:\n",
    "                for line2 in next_group:\n",
    "                    intersections.append(intersection(line1, line2)) \n",
    "\n",
    "    return intersections"
   ]
  },
  {
   "cell_type": "code",
   "execution_count": 4,
   "id": "0dd301b3",
   "metadata": {},
   "outputs": [],
   "source": [
    "def show_line(img, line, color):\n",
    "    arr = np.array(line[0], dtype=np.float64)\n",
    "    r, theta = arr\n",
    "    a = np.cos(theta)\n",
    "    b = np.sin(theta)\n",
    "\n",
    "    x0 = a*r\n",
    "    y0 = b*r\n",
    "\n",
    "    x1 = int(x0 + 1000*(-b))\n",
    "    y1 = int(y0 + 1000*(a))\n",
    "\n",
    "    x2 = int(x0 - 1000*(-b))\n",
    "    y2 = int(y0 - 1000*(a))\n",
    "    cv2.line(img, (x1, y1), (x2, y2), color, 2)"
   ]
  },
  {
   "cell_type": "code",
   "execution_count": 5,
   "id": "fcaf3692",
   "metadata": {},
   "outputs": [
    {
     "name": "stdout",
     "output_type": "stream",
     "text": [
      "Section 0\n",
      "Section 1\n"
     ]
    },
    {
     "data": {
      "text/plain": [
       "<Figure size 2400x2400 with 0 Axes>"
      ]
     },
     "metadata": {},
     "output_type": "display_data"
    }
   ],
   "source": [
    "plt.figure(figsize=(24,24))\n",
    "\n",
    "img = cv2.imread(pieces_top_view[3])\n",
    "\n",
    "width = 700\n",
    "height = 700\n",
    "dim = (width, height)\n",
    "\n",
    "# resize image\n",
    "img = cv2.resize(img, dim, interpolation = cv2.INTER_AREA)\n",
    "\n",
    "gray = cv2.cvtColor(img, cv2.COLOR_BGR2GRAY)\n",
    "\n",
    "edges = cv2.Canny(gray, 150, 240, apertureSize=3)\n",
    "\n",
    "lines = cv2.HoughLines(edges, 1, np.pi/180, 140)\n",
    "\n",
    "segmented = segment_by_angle_kmeans(lines)\n",
    "\n",
    "i = 0\n",
    "\n",
    "for lines in segmented:\n",
    "    print(\"Section \" + str(i))\n",
    "    \n",
    "    min_val = 9999999999\n",
    "    max_val = 0\n",
    "    \n",
    "    for line in lines:\n",
    "        arr = np.array(line[0], dtype=np.float64)\n",
    "        r, theta = arr\n",
    "        \n",
    "        a = np.cos(theta)\n",
    "        b = np.sin(theta)\n",
    "\n",
    "        x0 = a*r\n",
    "        y0 = b*r\n",
    "        \n",
    "        if i == 0:\n",
    "            v = x0\n",
    "        else:\n",
    "            v = y0\n",
    "        if v > max_val:\n",
    "            max_line = line\n",
    "            max_val = r\n",
    "            \n",
    "        if v < min_val:\n",
    "            min_line = line\n",
    "            min_val = r\n",
    "\n",
    "    show_line(img, min_line, (0, 255, 0))\n",
    "    show_line(img, max_line, (255, 0, 0))\n",
    "    i = i + 1\n",
    "\n",
    "cv2.imshow('linesDetected',img)\n",
    "if cv2.waitKey(0) & 0xff == 27:\n",
    "    cv2.destroyAllWindows()"
   ]
  },
  {
   "cell_type": "code",
   "execution_count": 6,
   "id": "7a438232",
   "metadata": {},
   "outputs": [
    {
     "name": "stdout",
     "output_type": "stream",
     "text": [
      "Section 0\n",
      "460.0 1.5882495641708374 -0.017452351301679672 0.9998476961187852 -8.02808159877265 459.9299402146412\n",
      "289.0 1.5707963705062866 -4.371139000186241e-08 0.999999999999999 -1.2632591710538237e-05 288.9999999999997\n",
      "330.0 1.5707963705062866 -4.371139000186241e-08 0.999999999999999 -1.4424758700614596e-05 329.99999999999966\n",
      "512.0 1.5882495641708374 -0.017452351301679672 0.9998476961187852 -8.935603866459992 511.92202041281803\n",
      "412.0 1.5882495641708374 -0.017452351301679672 0.9998476961187852 -7.190368736292025 411.9372508009395\n",
      "250.0 1.5707963705062866 -4.371139000186241e-08 0.999999999999999 -1.0927847500465603e-05 249.99999999999974\n",
      "372.0 1.5707963705062866 -4.371139000186241e-08 0.999999999999999 -1.6260637080692817e-05 371.9999999999996\n",
      "504.0 1.6057028770446777 -0.034899461933588664 0.9993908282332523 -17.589328814528688 503.69297742955916\n",
      "535.0 1.6057028770446777 -0.034899461933588664 0.9993908282332523 -18.671212134469936 534.67409310479\n",
      "180.0 1.5533430576324463 0.017452383083348 0.9998476955640354 3.14142895500264 179.97258520152639\n",
      "365.0 1.5882495641708374 -0.017452351301679672 0.9998476961187852 -6.37010822511308 364.9444090833566\n",
      "Section 1\n",
      "424.0 0.01745329238474369 0.9998476951587508 0.017452406302104498 423.9354227473103 7.399820272092307\n",
      "178.0 0.1745329201221466 0.9848077538938695 0.17364817266677937 175.29578019310878 30.90937473468673\n",
      "-524.0 3.0892326831817627 -0.9986295298952702 0.05233604896389903 523.2818736651216 -27.424089657083094\n",
      "-575.0 3.054326057434082 -0.9961946864515647 0.08715587579543124 572.8119447096498 -50.114628582372966\n",
      "-474.0 3.1241393089294434 -0.9998476942464143 0.017452458569748835 473.92780707280036 -8.272465362060949\n",
      "274.0 0.10471975803375244 0.9945218950636677 0.10452846616578243 272.49899924744494 28.640799729424387\n",
      "375.0 0.05235987901687622 0.9986295346783179 0.05233595769799333 374.48607550436924 19.6259841367475\n",
      "-606.0 3.0368728637695312 -0.9945218917410721 0.10452849777816209 602.6802663950897 -63.34426965356622\n",
      "226.0 0.13962633907794952 0.9902680688920995 0.13917309988899462 223.8005835696145 31.453120574912784\n",
      "156.0 0.20943951606750488 0.9781475995220578 0.20791169651858482 152.591025525441 32.43422465689923\n",
      "280.0 0.12217304855585098 0.9925461515296595 0.12186934431456582 277.9129224283047 34.12341640807843\n",
      "233.0 0.15707963705062866 0.987688339911341 0.1564344693575539 230.13138319934245 36.44923136031006\n",
      "180.0 0.1745329201221466 0.9848077538938695 0.17364817266677937 177.2653957008965 31.256671080020286\n",
      "327.0 0.0872664600610733 0.9961946983130029 0.0871557402186753 325.75566634835195 28.499927051506823\n",
      "322.0 0.06981316953897476 0.9975640502975485 0.06975647320464423 321.2156241958106 22.46158437189544\n",
      "-567.0 3.0368728637695312 -0.9945218917410721 0.10452849777816209 563.8939126171879 -59.267658240217905\n",
      "-466.0 3.1066861152648926 -0.9993908286494242 0.03489945001597251 465.7161261506317 -16.263143707443188\n"
     ]
    },
    {
     "data": {
      "text/plain": [
       "<Figure size 2400x2400 with 0 Axes>"
      ]
     },
     "metadata": {},
     "output_type": "display_data"
    }
   ],
   "source": [
    "plt.figure(figsize=(24,24))\n",
    "\n",
    "img = cv2.imread(pieces_top_view[7])\n",
    "\n",
    "width = 700\n",
    "height = 700\n",
    "dim = (width, height)\n",
    "\n",
    "font = cv2.FONT_HERSHEY_SIMPLEX\n",
    "fontScale = 1\n",
    "thickness = 1\n",
    "\n",
    "# resize image\n",
    "img = cv2.resize(img, dim, interpolation = cv2.INTER_AREA)\n",
    "\n",
    "gray = cv2.cvtColor(img, cv2.COLOR_BGR2GRAY)\n",
    "\n",
    "edges = cv2.Canny(gray, 150, 240, apertureSize=3)\n",
    "\n",
    "lines = cv2.HoughLines(edges, 1, np.pi/180, 120)\n",
    "\n",
    "segmented = segment_by_angle_kmeans(lines)\n",
    "\n",
    "i = 0\n",
    "\n",
    "for lines in segmented:\n",
    "    print(\"Section \" + str(i))\n",
    "    color = (0, 0, 0)\n",
    "\n",
    "    y = 0\n",
    "    for r_theta in lines:\n",
    "        arr = np.array(r_theta[0], dtype=np.float64)\n",
    "        r, theta = arr\n",
    "        a = np.cos(theta)\n",
    "        b = np.sin(theta)\n",
    "\n",
    "        x0 = a*r\n",
    "        y0 = b*r\n",
    "\n",
    "        x1 = int(x0 + 1000*(-b))\n",
    "        y1 = int(y0 + 1000*(a))\n",
    "\n",
    "        x2 = int(x0 - 1000*(-b))\n",
    "        y2 = int(y0 - 1000*(a))\n",
    "               \n",
    "        cv2.line(img, (x1, y1), (x2, y2), color, 2)\n",
    "        \n",
    "       \n",
    "        \n",
    "        c = list(color)   \n",
    "        c[i] = c[i] + 30\n",
    "        color = tuple(c)\n",
    "        \n",
    "        print(r, theta, a, b, x0, y0)\n",
    "        \n",
    "        y = y + 1\n",
    "\n",
    "    \n",
    "    i = i + 1\n",
    "\n",
    "cv2.imshow('linesDetected',img)\n",
    "if cv2.waitKey(0) & 0xff == 27:\n",
    "    cv2.destroyAllWindows()"
   ]
  },
  {
   "cell_type": "code",
   "execution_count": 7,
   "id": "cb028108",
   "metadata": {},
   "outputs": [
    {
     "name": "stdout",
     "output_type": "stream",
     "text": [
      "Max\n",
      "[0 0]\n",
      "MIN\n",
      "[ 5 15]\n",
      "points\n",
      "[594 565]\n",
      "[594 565]\n",
      "[ 78 556]\n",
      "[108 133]\n"
     ]
    },
    {
     "data": {
      "text/plain": [
       "<Figure size 2400x2400 with 0 Axes>"
      ]
     },
     "metadata": {},
     "output_type": "display_data"
    }
   ],
   "source": [
    "plt.figure(figsize=(24,24))\n",
    "\n",
    "img = cv2.imread(pieces_top_view[2])\n",
    "\n",
    "width = 700\n",
    "height = 700\n",
    "dim = (width, height)\n",
    "\n",
    "# resize image\n",
    "img = cv2.resize(img, dim, interpolation = cv2.INTER_AREA)\n",
    "\n",
    "gray = cv2.cvtColor(img, cv2.COLOR_BGR2GRAY)\n",
    "edges = cv2.Canny(gray, 150, 240, apertureSize=3)\n",
    "lines = cv2.HoughLines(edges, 1, np.pi/180, 140)\n",
    "\n",
    "segmented = segment_by_angle_kmeans(lines)\n",
    "\n",
    "intersections = segmented_intersections(segmented)\n",
    "\n",
    "A = np.array(intersections)\n",
    "A = A.reshape((A.shape[0], A.shape[2]))\n",
    "\n",
    "max_indexs = np.argmax(A, axis=0)\n",
    "min_indexs = np.argmin(A, axis=0)\n",
    "\n",
    "print('Max')\n",
    "print(max_indexs)\n",
    "print('MIN')\n",
    "print(min_indexs)\n",
    "\n",
    "print(\"points\")\n",
    "print(A[max_indexs[0]])\n",
    "print(A[max_indexs[1]])\n",
    "print(A[min_indexs[0]])\n",
    "print(A[min_indexs[1]])\n",
    "\n",
    "\n",
    "img = cv2.circle(img, (735, 592), radius=3, color=(0, 0, 255), thickness=-1)\n",
    "img = cv2.circle(img, (504, 21), radius=3, color=(0, 255, 0), thickness=-1)\n",
    "\n",
    "\n",
    "cv2.imshow('linesDetected',img)\n",
    "if cv2.waitKey(0) & 0xff == 27:\n",
    "    cv2.destroyAllWindows()"
   ]
  },
  {
   "cell_type": "code",
   "execution_count": 8,
   "id": "48efee64",
   "metadata": {},
   "outputs": [],
   "source": [
    "# Permet de recuperer la ligne de reference pour comparer plusieurs ligne entre elle\n",
    "def get_ref_line(axis, center):\n",
    "    if axis == 1:\n",
    "        return [[center[0], 0]]\n",
    "    return [[center[1], np.pi/2]]"
   ]
  },
  {
   "cell_type": "code",
   "execution_count": 9,
   "id": "0729a23e",
   "metadata": {},
   "outputs": [],
   "source": [
    "# Recuperer la ligne la plus à gauche/basse et la plus à droite/haute\n",
    "def get_min_max_lines(lines, center, axis=0):\n",
    "    ref_line = get_ref_line(axis, center)\n",
    "    \n",
    "    max_point = -99999999\n",
    "    min_point = 99999999 \n",
    "    \n",
    "    for line in lines:\n",
    "        coord = intersection(ref_line, line)\n",
    "        point = coord[0][axis]\n",
    "\n",
    "        if point > max_point:\n",
    "            max_point = point\n",
    "            max_line = line\n",
    "        if point < min_point:\n",
    "            min_point = point\n",
    "            min_line = line\n",
    "    \n",
    "    return [min_line, max_line]"
   ]
  },
  {
   "cell_type": "code",
   "execution_count": 10,
   "id": "c5a5aab6",
   "metadata": {},
   "outputs": [],
   "source": [
    "def get_lines_cross_points(lines, center, axis=0):\n",
    "    ref_line = get_ref_line(axis, center)\n",
    "    \n",
    "    points = []\n",
    "    \n",
    "    for line in lines:\n",
    "        coord = intersection(ref_line, line)\n",
    "        point = coord[0][axis]\n",
    "        points.append(point)\n",
    "        \n",
    "    return points"
   ]
  },
  {
   "cell_type": "code",
   "execution_count": 11,
   "id": "76851823",
   "metadata": {},
   "outputs": [],
   "source": [
    "# Ne fonction pas\n",
    "def keep_similar_lines(lines, tolerence):\n",
    "    a = np.array(lines).reshape(len(lines), 2)\n",
    "    b = a[:, 1]\n",
    "    m = np.median(b, axis=0)\n",
    "   \n",
    "    # /!\\ 0 = 180° \n",
    "    # mask = np.absolute((b - m)) < tolerence\n",
    "    \n",
    "    print(\"M\", m)\n",
    "    \n",
    "    c = b - m\n",
    "    c = (c + np.pi) % np.pi*2\n",
    "    \n",
    "    print(\"C\", c)\n",
    "\n",
    "    mask = c < tolerence\n",
    "    \n",
    "    filtered = []\n",
    "\n",
    "    for i, line in enumerate(lines):\n",
    "        if mask[i]:\n",
    "            filtered.append(line)\n",
    "\n",
    "    return filtered"
   ]
  },
  {
   "cell_type": "markdown",
   "id": "07996181",
   "metadata": {},
   "source": [
    "### Test : Detecteur de Harris"
   ]
  },
  {
   "cell_type": "code",
   "execution_count": 12,
   "id": "68ad4243",
   "metadata": {},
   "outputs": [
    {
     "name": "stdout",
     "output_type": "stream",
     "text": [
      "(4032, 3024, 3)\n"
     ]
    },
    {
     "data": {
      "text/plain": [
       "<Figure size 2400x2400 with 0 Axes>"
      ]
     },
     "metadata": {},
     "output_type": "display_data"
    }
   ],
   "source": [
    "plt.figure(figsize=(24,24))\n",
    "\n",
    "img = cv2.imread(pieces_top_view[3])\n",
    "print(img.shape)\n",
    "\n",
    "width = 700\n",
    "height = 700\n",
    "dim = (width, height)\n",
    "# resize image\n",
    "img = cv2.resize(img, dim, interpolation = cv2.INTER_AREA)\n",
    "\n",
    "gray = cv2.cvtColor(img,cv2.COLOR_BGR2GRAY)\n",
    "img_median = cv2.medianBlur(gray, 7)\n",
    "\n",
    "dst = cv2.cornerHarris(img_median,2,3,0.04)\n",
    "#result is dilated for marking the corners, not important\n",
    "dst = cv2.dilate(dst,None)\n",
    "# Threshold for an optimal value, it may vary depending on the image.\n",
    "img[dst>0.01*dst.max()]=[0,0,255]\n",
    "\n",
    "cv2.imshow('linesDetected',img)\n",
    "if cv2.waitKey(0) & 0xff == 27:\n",
    "    cv2.destroyAllWindows()"
   ]
  },
  {
   "cell_type": "markdown",
   "id": "36f57985",
   "metadata": {},
   "source": [
    "# Debut du traitement"
   ]
  },
  {
   "cell_type": "code",
   "execution_count": 207,
   "id": "a6e80c0a",
   "metadata": {},
   "outputs": [
    {
     "name": "stdout",
     "output_type": "stream",
     "text": [
      "(700, 700, 3)\n"
     ]
    }
   ],
   "source": [
    "image_id = 12\n",
    "image_ref = cv2.imread(pieces_top_view[image_id])\n",
    "\n",
    "size = 700\n",
    "center = (size/2, size/2)\n",
    "\n",
    "width = size\n",
    "height = size\n",
    "dim = (width, height)\n",
    "\n",
    "# resize image\n",
    "image_ref = cv2.resize(image_ref, dim, interpolation = cv2.INTER_AREA)\n",
    "print(image_ref.shape)"
   ]
  },
  {
   "cell_type": "code",
   "execution_count": 208,
   "id": "f71c46a6",
   "metadata": {},
   "outputs": [
    {
     "data": {
      "text/plain": [
       "-1"
      ]
     },
     "execution_count": 208,
     "metadata": {},
     "output_type": "execute_result"
    }
   ],
   "source": [
    "cv2.imshow('Image',image_ref)\n",
    "cv2.waitKey(0)"
   ]
  },
  {
   "cell_type": "markdown",
   "id": "468d1d5f",
   "metadata": {},
   "source": [
    "## Detecteur de contour"
   ]
  },
  {
   "cell_type": "code",
   "execution_count": 209,
   "id": "9e3d952e",
   "metadata": {},
   "outputs": [],
   "source": [
    "img = image_ref.copy()\n",
    "gray = cv2.cvtColor(img,cv2.COLOR_BGR2GRAY)\n",
    "\n",
    "img_median = cv2.medianBlur(gray, 7)\n",
    "img_median = cv2.dilate(img_median, None, iterations = 3)\n",
    "img_median = cv2.erode(img_median, None, iterations = 3)\n",
    "\n",
    "ret,threshold_img = cv2.threshold(img_median,100,255,cv2.THRESH_BINARY) # valeur à choisir avec precaution\n",
    "threshold_img = cv2.bitwise_not(threshold_img)\n",
    "threshold_img = cv2.dilate(threshold_img, None, iterations = 2)\n",
    "threshold_img = cv2.medianBlur(threshold_img, 9)\n",
    "\n",
    "contours, hierarchy = cv2.findContours(threshold_img, cv2.RETR_EXTERNAL, cv2.CHAIN_APPROX_NONE)\n",
    "\n",
    "max_find = 0\n",
    "\n",
    "for cnt in contours:        \n",
    "    rect = cv2.minAreaRect(cnt)       #I have used min Area rect for better result\n",
    "    width = rect[1][0]\n",
    "    height = rect[1][1]\n",
    "    \n",
    "    area = width * height\n",
    "    \n",
    "    if area > max_find:\n",
    "        max_find = area\n",
    "        max_cnt = cnt\n",
    "        \n",
    "x, y, w, h = cv2.boundingRect(max_cnt)\n",
    "        \n",
    "cropped_img_ref = img[y:y+h, x:x+w]\n",
    "cropped_center = (int(w/2),int(h/2))"
   ]
  },
  {
   "cell_type": "code",
   "execution_count": 210,
   "id": "07a11338",
   "metadata": {},
   "outputs": [
    {
     "data": {
      "text/plain": [
       "-1"
      ]
     },
     "execution_count": 210,
     "metadata": {},
     "output_type": "execute_result"
    }
   ],
   "source": [
    "a = threshold_img.copy()\n",
    "\n",
    "cv2.imshow('a',a)\n",
    "cv2.waitKey(0)"
   ]
  },
  {
   "cell_type": "markdown",
   "id": "f97611b9",
   "metadata": {},
   "source": [
    "## Detection des lignes de l'image avec mask"
   ]
  },
  {
   "cell_type": "code",
   "execution_count": 211,
   "id": "f8ea60a2",
   "metadata": {},
   "outputs": [
    {
     "name": "stdout",
     "output_type": "stream",
     "text": [
      "[[[ 19  47]]\n",
      "\n",
      " [[484 -10]]\n",
      "\n",
      " [[-17 395]]\n",
      "\n",
      " [[507 422]]]\n"
     ]
    }
   ],
   "source": [
    "cropped_img = cropped_img_ref.copy()\n",
    "\n",
    "gray = cv2.cvtColor(cropped_img, cv2.COLOR_BGR2GRAY)\n",
    "edges = cv2.Canny(gray, 150, 240, apertureSize=3)\n",
    "lines = cv2.HoughLines(edges, 1, np.pi/180, 130)\n",
    "\n",
    "# Recuperation des lignes gauche, droite, haute, basse du plateau\n",
    "\n",
    "segmented = segment_by_angle_kmeans(lines)\n",
    "\n",
    "v_lines = segmented[0]\n",
    "h_lines = segmented[1]\n",
    "\n",
    "# TODO : identifier axis of lines\n",
    "\n",
    "try:\n",
    "    min_max_v_line = get_min_max_lines(v_lines, cropped_center, axis=1) # on inverse 0 et 1 si erreur (2 lignes paralleles)\n",
    "    min_max_h_line = get_min_max_lines(h_lines, cropped_center, axis=0)\n",
    "except:\n",
    "    min_max_v_line = get_min_max_lines(v_lines, cropped_center, axis=1)\n",
    "    min_max_h_line = get_min_max_lines(h_lines, cropped_center, axis=0)\n",
    "    \n",
    "    \n",
    "intersections = np.array(segmented_intersections([min_max_v_line, min_max_h_line]))\n",
    "\n",
    "\n",
    "print(intersections)"
   ]
  },
  {
   "cell_type": "markdown",
   "id": "518732da",
   "metadata": {},
   "source": [
    "## Show all line detected"
   ]
  },
  {
   "cell_type": "code",
   "execution_count": 212,
   "id": "ee57a5be",
   "metadata": {},
   "outputs": [
    {
     "name": "stdout",
     "output_type": "stream",
     "text": [
      "(424, 508, 3)\n"
     ]
    },
    {
     "data": {
      "text/plain": [
       "-1"
      ]
     },
     "execution_count": 212,
     "metadata": {},
     "output_type": "execute_result"
    }
   ],
   "source": [
    "cropped_img_copy = cropped_img_ref.copy()\n",
    "\n",
    "print(cropped_img_copy.shape)\n",
    "\n",
    "for line in v_lines:\n",
    "    show_line(cropped_img_copy, line, (255, 0, 0))\n",
    "for line in h_lines:\n",
    "    show_line(cropped_img_copy, line, (0, 0, 255))\n",
    "\n",
    "cv2.imshow('linesDetected',cropped_img_copy)\n",
    "cv2.waitKey(0)"
   ]
  },
  {
   "cell_type": "code",
   "execution_count": 214,
   "id": "804044dd",
   "metadata": {},
   "outputs": [
    {
     "name": "stdout",
     "output_type": "stream",
     "text": [
      "(254, 212)\n"
     ]
    },
    {
     "data": {
      "text/plain": [
       "-1"
      ]
     },
     "execution_count": 214,
     "metadata": {},
     "output_type": "execute_result"
    }
   ],
   "source": [
    "line = get_ref_line(1, cropped_center)\n",
    "line_2 = get_ref_line(0, cropped_center)\n",
    "\n",
    "print(cropped_center)\n",
    "\n",
    "cropped_img_copy = cropped_img_ref.copy()\n",
    "\n",
    "show_line(cropped_img_copy, line, (255, 0, 255))\n",
    "show_line(cropped_img_copy, line_2, (255, 0, 0))\n",
    "\n",
    "cv2.imshow('linesDetected',cropped_img_copy)\n",
    "cv2.waitKey(0)"
   ]
  },
  {
   "cell_type": "markdown",
   "id": "2fc88a21",
   "metadata": {},
   "source": [
    "## Show intersections"
   ]
  },
  {
   "cell_type": "code",
   "execution_count": 217,
   "id": "49fdbefe",
   "metadata": {},
   "outputs": [
    {
     "data": {
      "text/plain": [
       "-1"
      ]
     },
     "execution_count": 217,
     "metadata": {},
     "output_type": "execute_result"
    }
   ],
   "source": [
    "cropped_img_copy = cropped_img_ref.copy()\n",
    "\n",
    "cropped_img_copy = cv2.circle(cropped_img_copy, tuple(*intersections[0]), radius=5, color=(0, 255, 0), thickness=-1)\n",
    "cropped_img_copy = cv2.circle(cropped_img_copy, tuple(*intersections[1]), radius=5, color=(0, 0, 255), thickness=-1)\n",
    "cropped_img_copy = cv2.circle(cropped_img_copy, tuple(*intersections[2]), radius=5, color=(0, 0, 0), thickness=-1)\n",
    "cropped_img_copy = cv2.circle(cropped_img_copy, tuple(*intersections[3]), radius=5, color=(0, 255, 255), thickness=-1)\n",
    "\n",
    "cv2.imshow('linesDetected',cropped_img_copy)\n",
    "cv2.waitKey(0)"
   ]
  },
  {
   "cell_type": "markdown",
   "id": "10358ee0",
   "metadata": {},
   "source": [
    "# Find and create Homography img"
   ]
  },
  {
   "cell_type": "code",
   "execution_count": 218,
   "id": "d50d5e51",
   "metadata": {},
   "outputs": [
    {
     "name": "stdout",
     "output_type": "stream",
     "text": [
      "[[[ 19  47]]\n",
      "\n",
      " [[484 -10]]\n",
      "\n",
      " [[-17 395]]\n",
      "\n",
      " [[507 422]]]\n",
      "[[  0 700]\n",
      " [700 700]\n",
      " [  0   0]\n",
      " [700   0]]\n"
     ]
    }
   ],
   "source": [
    "cropped_img = cropped_img_ref.copy()\n",
    "\n",
    "src = np.array(intersections)\n",
    "dst = np.array([[0,size],[size,size],[0,0],[size,0]])\n",
    "\n",
    "print(src)\n",
    "print(dst)\n",
    "\n",
    "h, status = cv2.findHomography(src, dst);\n",
    "im_dst = cv2.warpPerspective(cropped_img, h, (size,size))"
   ]
  },
  {
   "cell_type": "code",
   "execution_count": 219,
   "id": "9e4a19be",
   "metadata": {},
   "outputs": [
    {
     "data": {
      "text/plain": [
       "-1"
      ]
     },
     "execution_count": 219,
     "metadata": {},
     "output_type": "execute_result"
    }
   ],
   "source": [
    "cv2.imshow('Homographie',im_dst)\n",
    "cv2.waitKey(0)"
   ]
  },
  {
   "cell_type": "code",
   "execution_count": 220,
   "id": "afcceefa",
   "metadata": {},
   "outputs": [],
   "source": [
    "gray = cv2.cvtColor(im_dst, cv2.COLOR_BGR2GRAY)\n",
    "edges = cv2.Canny(gray, 150, 240, apertureSize=3)\n",
    "lines = cv2.HoughLines(edges, 1, np.pi/180, 110)\n",
    "\n",
    "# Recuperation des lignes gauche, droite, haute, basse du plateau\n",
    "\n",
    "segmented = segment_by_angle_kmeans(lines)\n",
    "\n",
    "v_lines = segmented[0]\n",
    "h_lines = segmented[1]"
   ]
  },
  {
   "cell_type": "code",
   "execution_count": 221,
   "id": "24ca0057",
   "metadata": {},
   "outputs": [],
   "source": [
    "def mean_similar_points(points, tolerence):\n",
    "    next_group_id = 0\n",
    "    keys_groups = dict()\n",
    "\n",
    "    for i, value in enumerate(points): \n",
    "        mask = np.absolute(points-value) < tolerence\n",
    "        similars = points[mask]\n",
    "        if value in keys_groups:\n",
    "            for s in similars:\n",
    "                keys_groups[s] = keys_groups[value]\n",
    "        else:\n",
    "            for s in similars:\n",
    "                keys_groups[s] = next_group_id\n",
    "            next_group_id = next_group_id + 1\n",
    "\n",
    "    inv_map = {}\n",
    "    for k, v in keys_groups.items():\n",
    "        inv_map[v] = inv_map.get(v, []) + [k]\n",
    "\n",
    "    mean_points = []\n",
    "    for i in inv_map:\n",
    "        i_list = inv_map[i]\n",
    "        i_mean = int(sum(i_list) / len(i_list))\n",
    "        mean_points.append(i_mean)\n",
    "\n",
    "    return mean_points"
   ]
  },
  {
   "cell_type": "code",
   "execution_count": 222,
   "id": "e445c7f5",
   "metadata": {},
   "outputs": [],
   "source": [
    "im_dst_copy = im_dst.copy()"
   ]
  },
  {
   "cell_type": "code",
   "execution_count": 223,
   "id": "d9939c6c",
   "metadata": {},
   "outputs": [],
   "source": [
    "for i in v_lines:\n",
    "    show_line(im_dst_copy, i, (0, 255, 0))\n",
    "\n",
    "for i in h_lines:\n",
    "    show_line(im_dst_copy, i, (0, 0, 255))   "
   ]
  },
  {
   "cell_type": "code",
   "execution_count": 224,
   "id": "a3b1093d",
   "metadata": {},
   "outputs": [
    {
     "data": {
      "text/plain": [
       "-1"
      ]
     },
     "execution_count": 224,
     "metadata": {},
     "output_type": "execute_result"
    }
   ],
   "source": [
    "cv2.imshow('im_dst',im_dst_copy)\n",
    "cv2.waitKey(0)"
   ]
  },
  {
   "cell_type": "code",
   "execution_count": 225,
   "id": "c2514cc6",
   "metadata": {},
   "outputs": [],
   "source": [
    "# =====================\n",
    "# L'objectif de ce code est d'aller chercher la meilleur premiere ligne de l'echiquier\n",
    "# Pour cela, on calcule deja l'ecart median pour determiner la taille d'une case\n",
    "# Puis on vient avec different calcule determiné combien de case peuvent être contenu entre 2 lignes en partant d'un\n",
    "# point de départ \"s\"\n",
    "# L'objectif est de maximiser ce nombre de case\n",
    "\n",
    "def find_cases_between_points(points, tolerance=.1):\n",
    "    points = np.sort(points)\n",
    "    departs = points.copy()\n",
    "    max_p = np.max(points)\n",
    "\n",
    "    # On defini le depart sur le point 0\n",
    "    s = 0\n",
    "    points = np.insert(points, 0, s)\n",
    "    \n",
    "    print(points)\n",
    "\n",
    "    max_s_find = -1\n",
    "    max_ect_norm_divisor = np.array([])\n",
    "    first_point_idx = 0\n",
    "    \n",
    "    idx = 0\n",
    "\n",
    "    while s < max_p:\n",
    "        \n",
    "        print(\"S :\", s)\n",
    "\n",
    "        rlt_points = points - s\n",
    "        rlt_points = rlt_points[rlt_points >= 0]\n",
    "\n",
    "        # Si il n'y a plus de point dans la zone de recherche, on arrete la recherche\n",
    "        if rlt_points.shape[0] == 0:\n",
    "            break\n",
    "\n",
    "\n",
    "        print(\"rlt_points\", rlt_points)\n",
    "        print(\"rlt_points roll\", np.roll(rlt_points, 1))\n",
    "\n",
    "        rlt_points_ect = rlt_points - np.roll(rlt_points, 1)\n",
    "\n",
    "        # On supprime la premiere colonne qui n'est pas utile\n",
    "        rlt_points_ect = rlt_points_ect[1:]\n",
    "\n",
    "        print(\"rlt_points_ect\", rlt_points_ect)\n",
    "\n",
    "        # On recuperer la distance median entre 2 lignes (on considera cette distance comme la taille d'une case)\n",
    "        ect_median = np.median(rlt_points_ect)\n",
    "        print(\"ect_median\", ect_median)\n",
    "\n",
    "        # On normalise nos distances sur la base de la taille d'une case\n",
    "        ect_norm = np.divide(rlt_points_ect, ect_median)\n",
    "\n",
    "        print(\"ect_norm\", ect_norm)\n",
    "\n",
    "        # On vient recuperer le reste de la division par 1 de nos distances normaliser\n",
    "        ect_norm_rst = np.abs((ect_norm % 1)) \n",
    "        # Puis on utilise ce reste pour connaire le nombre de case presente entre 2 lignes\n",
    "        ect_norm_divisor = (ect_norm - ect_norm_rst).astype(int)\n",
    "\n",
    "        print(\"ect_norm_rst\", ect_norm_rst)\n",
    "        print(\"ect_norm_divisor\", ect_norm_divisor)\n",
    "\n",
    "        # Certaine case peuvent être legrement plus petite que 1 mais existe quand même\n",
    "        # On compabilise une case si elle font au moins 90% de la taile d'une case\n",
    "        mask_add = ect_norm_rst >= (1 - tolerance)\n",
    "        ect_norm_divisor[mask_add] = ect_norm_divisor[mask_add] + 1 \n",
    "        \n",
    "        \n",
    "        # Certain element peuvent contenir 1 case et une parti d'une autre, ce qui n'est pas valide dans notre cas\n",
    "        mask_remove = (ect_norm_rst < (1 - tolerance)) & (ect_norm_rst > tolerance)\n",
    "        ect_norm_divisor[mask_remove] = 0\n",
    "        \n",
    "        print(\"mask_remove\", mask_remove)\n",
    "        \n",
    "\n",
    "        print(\"ect_norm_divisor with added case\", ect_norm_divisor)\n",
    "\n",
    "        # =============================\n",
    "        # On vient comparer notre resultat avec les prevedents\n",
    "\n",
    "        if np.sum(max_ect_norm_divisor) <= np.sum(ect_norm_divisor):\n",
    "            max_s_find = s\n",
    "            max_ect_norm_divisor = ect_norm_divisor\n",
    "            first_point_idx = idx\n",
    "\n",
    "        # =============================\n",
    "        # Optimisation : Si toutes les zones entre 2 lignes contiennent au moins une case, on s'arrete\n",
    "        if ect_norm_divisor[ect_norm_divisor == 0].shape[0] == 0:\n",
    "            break\n",
    "\n",
    "        # =============================\n",
    "        # Changement du point de depart\n",
    "\n",
    "        # Si il n'y a plus d'autre point de depart, on arrete la recherche\n",
    "        if (departs[0] is None):\n",
    "            break;\n",
    "\n",
    "        # Sinon, on chnage le point de depart\n",
    "        s = departs[0]\n",
    "        departs = departs[1:]\n",
    "\n",
    "        idx = idx + 1\n",
    "        \n",
    "    return (\n",
    "        max_s_find,\n",
    "        max_ect_norm_divisor,\n",
    "        first_point_idx\n",
    "    )"
   ]
  },
  {
   "cell_type": "code",
   "execution_count": 226,
   "id": "4a4e5a79",
   "metadata": {},
   "outputs": [],
   "source": [
    "# =====================\n",
    "# Ce code permet de calculer les coordonnées de l'echiquier\n",
    "#\n",
    "\n",
    "def get_interpolate_coord(points):\n",
    "    points = np.sort(points)\n",
    "    max_s_find, max_ect_norm_divisor, first_point_idx = find_cases_between_points(points)\n",
    "\n",
    "    coord = [max_s_find]\n",
    "    \n",
    "    print(\"---- get_interpolate_coord ----\")\n",
    "\n",
    "    for i, nbr_case in enumerate(max_ect_norm_divisor):\n",
    "        print(\"Nbr de case :\", nbr_case, \"Idx :\", i)\n",
    "\n",
    "        if nbr_case == 0:\n",
    "            continue\n",
    "\n",
    "        current_idx = first_point_idx + i\n",
    "        current_point = points[current_idx]\n",
    "\n",
    "        print(\"current_idx\", current_idx)\n",
    "        print(\"current_point\", current_point)\n",
    "\n",
    "        if nbr_case == 1:\n",
    "            coord.append(current_point)\n",
    "        else:\n",
    "            for j in range(1,nbr_case+1):\n",
    "                factor = j / nbr_case\n",
    "                print(factor)\n",
    "\n",
    "                previous_point = points[current_idx - 1]\n",
    "                distance = current_point - previous_point\n",
    "\n",
    "                print(\"previous_point\", previous_point)\n",
    "                print(\"distance\", distance)\n",
    "\n",
    "                interpolate_point = previous_point + distance*factor\n",
    "\n",
    "                coord.append(interpolate_point)\n",
    "\n",
    "\n",
    "    return np.array(coord).astype(int)"
   ]
  },
  {
   "cell_type": "code",
   "execution_count": 227,
   "id": "495ca029",
   "metadata": {},
   "outputs": [
    {
     "name": "stdout",
     "output_type": "stream",
     "text": [
      "[370, 451, 531, 290, 614, 210, 128, 44, 699]\n",
      "[3, 246, 85, 167, 327, 486, 407, 651, 567, 700]\n",
      "===== Vertical =====\n",
      "[  0  44 128 210 290 370 451 531 614 699]\n",
      "S : 0\n",
      "rlt_points [  0  44 128 210 290 370 451 531 614 699]\n",
      "rlt_points roll [699   0  44 128 210 290 370 451 531 614]\n",
      "rlt_points_ect [44 84 82 80 80 81 80 83 85]\n",
      "ect_median 81.0\n",
      "ect_norm [0.54320988 1.03703704 1.01234568 0.98765432 0.98765432 1.\n",
      " 0.98765432 1.02469136 1.04938272]\n",
      "ect_norm_rst [0.54320988 0.03703704 0.01234568 0.98765432 0.98765432 0.\n",
      " 0.98765432 0.02469136 0.04938272]\n",
      "ect_norm_divisor [0 1 1 0 0 1 0 1 1]\n",
      "mask_remove [ True False False False False False False False False]\n",
      "ect_norm_divisor with added case [0 1 1 1 1 1 1 1 1]\n",
      "S : 44\n",
      "rlt_points [  0  84 166 246 326 407 487 570 655]\n",
      "rlt_points roll [655   0  84 166 246 326 407 487 570]\n",
      "rlt_points_ect [84 82 80 80 81 80 83 85]\n",
      "ect_median 81.5\n",
      "ect_norm [1.03067485 1.00613497 0.98159509 0.98159509 0.99386503 0.98159509\n",
      " 1.01840491 1.04294479]\n",
      "ect_norm_rst [0.03067485 0.00613497 0.98159509 0.98159509 0.99386503 0.98159509\n",
      " 0.01840491 0.04294479]\n",
      "ect_norm_divisor [1 1 0 0 0 0 1 1]\n",
      "mask_remove [False False False False False False False False]\n",
      "ect_norm_divisor with added case [1 1 1 1 1 1 1 1]\n",
      "---- get_interpolate_coord ----\n",
      "Nbr de case : 1 Idx : 0\n",
      "current_idx 1\n",
      "current_point 128\n",
      "Nbr de case : 1 Idx : 1\n",
      "current_idx 2\n",
      "current_point 210\n",
      "Nbr de case : 1 Idx : 2\n",
      "current_idx 3\n",
      "current_point 290\n",
      "Nbr de case : 1 Idx : 3\n",
      "current_idx 4\n",
      "current_point 370\n",
      "Nbr de case : 1 Idx : 4\n",
      "current_idx 5\n",
      "current_point 451\n",
      "Nbr de case : 1 Idx : 5\n",
      "current_idx 6\n",
      "current_point 531\n",
      "Nbr de case : 1 Idx : 6\n",
      "current_idx 7\n",
      "current_point 614\n",
      "Nbr de case : 1 Idx : 7\n",
      "current_idx 8\n",
      "current_point 699\n",
      "===== Horizontal =====\n",
      "[  0   3  85 167 246 327 407 486 567 651 700]\n",
      "S : 0\n",
      "rlt_points [  0   3  85 167 246 327 407 486 567 651 700]\n",
      "rlt_points roll [700   0   3  85 167 246 327 407 486 567 651]\n",
      "rlt_points_ect [ 3 82 82 79 81 80 79 81 84 49]\n",
      "ect_median 80.5\n",
      "ect_norm [0.03726708 1.01863354 1.01863354 0.98136646 1.00621118 0.99378882\n",
      " 0.98136646 1.00621118 1.04347826 0.60869565]\n",
      "ect_norm_rst [0.03726708 0.01863354 0.01863354 0.98136646 0.00621118 0.99378882\n",
      " 0.98136646 0.00621118 0.04347826 0.60869565]\n",
      "ect_norm_divisor [0 1 1 0 1 0 0 1 1 0]\n",
      "mask_remove [False False False False False False False False False  True]\n",
      "ect_norm_divisor with added case [0 1 1 1 1 1 1 1 1 0]\n",
      "S : 3\n",
      "rlt_points [  0  82 164 243 324 404 483 564 648 697]\n",
      "rlt_points roll [697   0  82 164 243 324 404 483 564 648]\n",
      "rlt_points_ect [82 82 79 81 80 79 81 84 49]\n",
      "ect_median 81.0\n",
      "ect_norm [1.01234568 1.01234568 0.97530864 1.         0.98765432 0.97530864\n",
      " 1.         1.03703704 0.60493827]\n",
      "ect_norm_rst [0.01234568 0.01234568 0.97530864 0.         0.98765432 0.97530864\n",
      " 0.         0.03703704 0.60493827]\n",
      "ect_norm_divisor [1 1 0 1 0 0 1 1 0]\n",
      "mask_remove [False False False False False False False False  True]\n",
      "ect_norm_divisor with added case [1 1 1 1 1 1 1 1 0]\n",
      "S : 85\n",
      "rlt_points [  0  82 161 242 322 401 482 566 615]\n",
      "rlt_points roll [615   0  82 161 242 322 401 482 566]\n",
      "rlt_points_ect [82 79 81 80 79 81 84 49]\n",
      "ect_median 80.5\n",
      "ect_norm [1.01863354 0.98136646 1.00621118 0.99378882 0.98136646 1.00621118\n",
      " 1.04347826 0.60869565]\n",
      "ect_norm_rst [0.01863354 0.98136646 0.00621118 0.99378882 0.98136646 0.00621118\n",
      " 0.04347826 0.60869565]\n",
      "ect_norm_divisor [1 0 1 0 0 1 1 0]\n",
      "mask_remove [False False False False False False False  True]\n",
      "ect_norm_divisor with added case [1 1 1 1 1 1 1 0]\n",
      "S : 167\n",
      "rlt_points [  0  79 160 240 319 400 484 533]\n",
      "rlt_points roll [533   0  79 160 240 319 400 484]\n",
      "rlt_points_ect [79 81 80 79 81 84 49]\n",
      "ect_median 80.0\n",
      "ect_norm [0.9875 1.0125 1.     0.9875 1.0125 1.05   0.6125]\n",
      "ect_norm_rst [0.9875 0.0125 0.     0.9875 0.0125 0.05   0.6125]\n",
      "ect_norm_divisor [0 1 1 0 1 1 0]\n",
      "mask_remove [False False False False False False  True]\n",
      "ect_norm_divisor with added case [1 1 1 1 1 1 0]\n",
      "S : 246\n",
      "rlt_points [  0  81 161 240 321 405 454]\n",
      "rlt_points roll [454   0  81 161 240 321 405]\n",
      "rlt_points_ect [81 80 79 81 84 49]\n",
      "ect_median 80.5\n",
      "ect_norm [1.00621118 0.99378882 0.98136646 1.00621118 1.04347826 0.60869565]\n",
      "ect_norm_rst [0.00621118 0.99378882 0.98136646 0.00621118 0.04347826 0.60869565]\n",
      "ect_norm_divisor [1 0 0 1 1 0]\n",
      "mask_remove [False False False False False  True]\n",
      "ect_norm_divisor with added case [1 1 1 1 1 0]\n",
      "S : 327\n",
      "rlt_points [  0  80 159 240 324 373]\n",
      "rlt_points roll [373   0  80 159 240 324]\n",
      "rlt_points_ect [80 79 81 84 49]\n",
      "ect_median 80.0\n",
      "ect_norm [1.     0.9875 1.0125 1.05   0.6125]\n",
      "ect_norm_rst [0.     0.9875 0.0125 0.05   0.6125]\n",
      "ect_norm_divisor [1 0 1 1 0]\n",
      "mask_remove [False False False False  True]\n",
      "ect_norm_divisor with added case [1 1 1 1 0]\n",
      "S : 407\n",
      "rlt_points [  0  79 160 244 293]\n",
      "rlt_points roll [293   0  79 160 244]\n",
      "rlt_points_ect [79 81 84 49]\n",
      "ect_median 80.0\n",
      "ect_norm [0.9875 1.0125 1.05   0.6125]\n",
      "ect_norm_rst [0.9875 0.0125 0.05   0.6125]\n",
      "ect_norm_divisor [0 1 1 0]\n",
      "mask_remove [False False False  True]\n",
      "ect_norm_divisor with added case [1 1 1 0]\n",
      "S : 486\n",
      "rlt_points [  0  81 165 214]\n",
      "rlt_points roll [214   0  81 165]\n",
      "rlt_points_ect [81 84 49]\n",
      "ect_median 81.0\n",
      "ect_norm [1.         1.03703704 0.60493827]\n",
      "ect_norm_rst [0.         0.03703704 0.60493827]\n",
      "ect_norm_divisor [1 1 0]\n",
      "mask_remove [False False  True]\n",
      "ect_norm_divisor with added case [1 1 0]\n",
      "S : 567\n",
      "rlt_points [  0  84 133]\n",
      "rlt_points roll [133   0  84]\n",
      "rlt_points_ect [84 49]\n",
      "ect_median 66.5\n",
      "ect_norm [1.26315789 0.73684211]\n",
      "ect_norm_rst [0.26315789 0.73684211]\n",
      "ect_norm_divisor [1 0]\n",
      "mask_remove [ True  True]\n",
      "ect_norm_divisor with added case [0 0]\n",
      "S : 651\n",
      "rlt_points [ 0 49]\n",
      "rlt_points roll [49  0]\n",
      "rlt_points_ect [49]\n",
      "ect_median 49.0\n",
      "ect_norm [1.]\n",
      "ect_norm_rst [0.]\n",
      "ect_norm_divisor [1]\n",
      "mask_remove [False]\n",
      "ect_norm_divisor with added case [1]\n",
      "---- get_interpolate_coord ----\n",
      "Nbr de case : 1 Idx : 0\n",
      "current_idx 1\n",
      "current_point 85\n",
      "Nbr de case : 1 Idx : 1\n",
      "current_idx 2\n",
      "current_point 167\n",
      "Nbr de case : 1 Idx : 2\n",
      "current_idx 3\n",
      "current_point 246\n",
      "Nbr de case : 1 Idx : 3\n",
      "current_idx 4\n",
      "current_point 327\n",
      "Nbr de case : 1 Idx : 4\n",
      "current_idx 5\n",
      "current_point 407\n",
      "Nbr de case : 1 Idx : 5\n",
      "current_idx 6\n",
      "current_point 486\n",
      "Nbr de case : 1 Idx : 6\n",
      "current_idx 7\n",
      "current_point 567\n",
      "Nbr de case : 1 Idx : 7\n",
      "current_idx 8\n",
      "current_point 651\n",
      "Nbr de case : 0 Idx : 8\n",
      "[ 44 128 210 290 370 451 531 614 699]\n",
      "[  3  85 167 246 327 407 486 567 651]\n"
     ]
    }
   ],
   "source": [
    "try:\n",
    "    v_points = np.array(get_lines_cross_points(v_lines, center, axis=0))\n",
    "    h_points = np.array(get_lines_cross_points(h_lines, center, axis=1))\n",
    "except:\n",
    "    v_points = np.array(get_lines_cross_points(h_lines, center, axis=0))\n",
    "    h_points = np.array(get_lines_cross_points(v_lines, center, axis=1))\n",
    "\n",
    "im_dst_w = im_dst_copy.shape[0]\n",
    "im_dst_h = im_dst_copy.shape[1]\n",
    "    \n",
    "    \n",
    "v_points = np.insert(v_points, len(v_points), im_dst_w)\n",
    "h_points = np.insert(h_points, len(h_points), im_dst_h)\n",
    "\n",
    "v_points = v_points[(v_points <= im_dst_w) & (v_points >= 0)]\n",
    "h_points = h_points[(h_points <= im_dst_h) & (h_points >= 0)]\n",
    "\n",
    "v_points = mean_similar_points(v_points, 30)\n",
    "h_points = mean_similar_points(h_points, 30)\n",
    "\n",
    "print(v_points)\n",
    "print(h_points)\n",
    "\n",
    "print(\"===== Vertical =====\")\n",
    "v_coord = get_interpolate_coord(v_points)\n",
    "\n",
    "print(\"===== Horizontal =====\")\n",
    "h_coord = get_interpolate_coord(h_points)\n",
    "\n",
    "print(v_coord)\n",
    "print(h_coord)\n",
    "\n",
    "for p in v_coord:\n",
    "    im_dst_copy = cv2.circle(im_dst_copy, tuple([int(p), 10]), radius=5, color=(255, 0, 0), thickness=-1)\n",
    "\n",
    "for p in h_coord:\n",
    "    im_dst_copy = cv2.circle(im_dst_copy, tuple([10, int(p)]), radius=5, color=(0, 0, 255), thickness=-1)\n",
    "    "
   ]
  },
  {
   "cell_type": "code",
   "execution_count": 250,
   "id": "87e9698f",
   "metadata": {},
   "outputs": [
    {
     "name": "stdout",
     "output_type": "stream",
     "text": [
      "44 3\n",
      "699 651\n",
      "(648, 655, 3)\n",
      "[  0  84 166 246 326 407 487 570 655] [  0  82 164 243 324 404 483 564 648]\n"
     ]
    }
   ],
   "source": [
    "im_dst_copy = im_dst.copy()\n",
    "\n",
    "min_x = np.min(v_coord)\n",
    "min_y = np.min(h_coord)\n",
    "max_x = np.max(v_coord)\n",
    "max_y = np.max(h_coord)\n",
    "\n",
    "print(min_x, min_y)\n",
    "print(max_x, max_y)\n",
    "\n",
    "final_x_coords = v_coord - min_x\n",
    "final_y_coords = h_coord - min_y\n",
    "\n",
    "final_chess_plate_ref = im_dst_copy[min_y:max_y, min_x:max_x]                                    \n",
    "\n",
    "print(final_chess_plate_ref.shape)\n",
    "print(final_x_coords, final_y_coords)"
   ]
  },
  {
   "cell_type": "code",
   "execution_count": 251,
   "id": "b9d227a3",
   "metadata": {},
   "outputs": [],
   "source": [
    "class ChessPlate:\n",
    "    \n",
    "    def __init__(self, plate_img, x_coords, y_coords):\n",
    "        self.plate_img = plate_img\n",
    "        self.x_coords = x_coords\n",
    "        self.y_coords = y_coords\n",
    "        \n",
    "    def show(self):\n",
    "        final_chess_plate = self.plate_img.copy()\n",
    "\n",
    "        for i in final_x_coords:\n",
    "            show_line(final_chess_plate, [[i, 0]], (0, 255, 0))\n",
    "\n",
    "        for i in final_y_coords:\n",
    "            show_line(final_chess_plate, [[i, np.pi/2]], (0, 0, 255))\n",
    "            \n",
    "        cv2.imshow('chess board',final_chess_plate)\n",
    "        cv2.waitKey(0)\n",
    "        \n",
    "    def get_case(self, i,j):\n",
    "        \n",
    "        x1 = self.x_coords[i]\n",
    "        x2 = self.x_coords[i+1]\n",
    "        y1 = self.y_coords[j]\n",
    "        y2 = self.y_coords[j+1]\n",
    "        \n",
    "        return self.plate_img[x1:x2, y1:y2]"
   ]
  },
  {
   "cell_type": "code",
   "execution_count": 254,
   "id": "82c93360",
   "metadata": {},
   "outputs": [],
   "source": [
    "chess_plate = ChessPlate(final_chess_plate_ref, final_x_coords, final_y_coords)\n",
    "chess_plate.show()"
   ]
  },
  {
   "cell_type": "code",
   "execution_count": 265,
   "id": "0bc3ed02",
   "metadata": {},
   "outputs": [
    {
     "data": {
      "image/png": "[encoded data removed]",
      "text/plain": [
       "<Figure size 640x480 with 64 Axes>"
      ]
     },
     "metadata": {},
     "output_type": "display_data"
    }
   ],
   "source": [
    "fig, ax = plt.subplots(8, 8)\n",
    "\n",
    "for i in range(0,8):\n",
    "    for j in range(0,8):\n",
    "        case = chess_plate.get_case(i,j)\n",
    "        ax[i,j].imshow(case[:,:,::-1],cmap = 'gray')"
   ]
  },
  {
   "cell_type": "code",
   "execution_count": null,
   "id": "5e2d90ad",
   "metadata": {},
   "outputs": [],
   "source": []
  },
  {
   "cell_type": "code",
   "execution_count": null,
   "id": "cc1e867b",
   "metadata": {},
   "outputs": [],
   "source": []
  }
 ],
 "metadata": {
  "kernelspec": {
   "display_name": "Python 3 (ipykernel)",
   "language": "python",
   "name": "python3"
  },
  "language_info": {
   "codemirror_mode": {
    "name": "ipython",
    "version": 3
   },
   "file_extension": ".py",
   "mimetype": "text/x-python",
   "name": "python",
   "nbconvert_exporter": "python",
   "pygments_lexer": "ipython3",
   "version": "3.9.13"
  }
 },
 "nbformat": 4,
 "nbformat_minor": 5
}
